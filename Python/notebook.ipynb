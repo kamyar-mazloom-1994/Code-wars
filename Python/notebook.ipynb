{
 "cells": [
  {
   "cell_type": "code",
   "execution_count": 5,
   "metadata": {},
   "outputs": [
    {
     "name": "stdout",
     "output_type": "stream",
     "text": [
      "3\n"
     ]
    }
   ],
   "source": [
    "def divisors(n): \n",
    "  div_list=[]\n",
    "  i = 1\n",
    "  while i <= n: \n",
    "    if n % i == 0: \n",
    "      div_list.append(i)\n",
    "    i+=1\n",
    "\n",
    "  return(len(div_list))\n",
    "\n",
    "divisors(4)\n",
    "  "
   ]
  },
  {
   "cell_type": "code",
   "execution_count": 7,
   "metadata": {},
   "outputs": [
    {
     "data": {
      "text/plain": [
       "3"
      ]
     },
     "execution_count": 7,
     "metadata": {},
     "output_type": "execute_result"
    }
   ],
   "source": [
    "def calculate_years(principal, interest, tax, desired):\n",
    "  i = 0\n",
    "  while principal< desired: \n",
    "    principal = principal*(1+interest*(1-tax))\n",
    "    i +=1\n",
    "  return i\n",
    "\n",
    "calculate_years(1000,0.05,0.18,1100)\n"
   ]
  },
  {
   "cell_type": "code",
   "execution_count": 1,
   "metadata": {},
   "outputs": [
    {
     "data": {
      "text/plain": [
       "0"
      ]
     },
     "execution_count": 1,
     "metadata": {},
     "output_type": "execute_result"
    }
   ],
   "source": [
    "def break_chocolate(n, m):\n",
    "  return max(n*m-1 , 0)\n",
    "\n",
    "break_chocolate(5,5)\n",
    "\n",
    "break_chocolate(0,0)\n"
   ]
  },
  {
   "cell_type": "code",
   "execution_count": 11,
   "metadata": {},
   "outputs": [
    {
     "name": "stdout",
     "output_type": "stream",
     "text": [
      "5\n",
      "5\n",
      "gnuoy yenom\n"
     ]
    }
   ],
   "source": [
    "def spin_words(sentence):\n",
    "  sentence_list=sentence.split(\" \")\n",
    "\n",
    "  for i in range(len(sentence_list)):\n",
    "    print(len(sentence_list[i]))\n",
    "    if len(sentence_list[i]) > 4: \n",
    "      sentence_list[i] = sentence_list[i][::-1]\n",
    "\n",
    "  return(\" \".join(sentence_list))\n",
    "\n",
    "\n",
    "spin_words(\"young money\")\n"
   ]
  },
  {
   "cell_type": "code",
   "execution_count": 12,
   "metadata": {},
   "outputs": [
    {
     "name": "stdout",
     "output_type": "stream",
     "text": [
      "{20: 4, -1: -2, -2: 3, 3: 5, 5: 1, 2: 4}\n"
     ]
    }
   ],
   "source": [
    "def find_it(seq):\n",
    "  j=0\n",
    "  for i in seq: \n",
    "    if i == seq[j]:\n",
    "      \n",
    "\n",
    "\n",
    "find_it([20,1,-1,2,-2,3,3,5,5,1,2,4,20,4,-1,-2,5])"
   ]
  },
  {
   "cell_type": "code",
   "execution_count": 11,
   "metadata": {},
   "outputs": [
    {
     "data": {
      "text/plain": [
       "6"
      ]
     },
     "execution_count": 11,
     "metadata": {},
     "output_type": "execute_result"
    }
   ],
   "source": [
    "def digital_root(n):\n",
    "    while n>9:\n",
    "      l = [int(x) for x in str(n)]\n",
    "      sum = 0\n",
    "      for i in l:\n",
    "          sum +=i\n",
    "          n = sum\n",
    "    return n \n",
    "\n",
    "digital_root(942)"
   ]
  },
  {
   "cell_type": "code",
   "execution_count": 27,
   "metadata": {},
   "outputs": [
    {
     "data": {
      "text/plain": [
       "'Alex, Jacob, Mark and Max like this'"
      ]
     },
     "execution_count": 27,
     "metadata": {},
     "output_type": "execute_result"
    }
   ],
   "source": [
    "def likes(names):\n",
    "\n",
    "    textToReturn = \"\"\n",
    "\n",
    "    if (len(names) == 0):\n",
    "        textToReturn = \"no one likes this\"\n",
    "    elif (len(names) == 1):\n",
    "        textToReturn = str(names[0]) + \" likes this\"\n",
    "    elif (len(names) > 1 and len(names) < 4):\n",
    "        for name in range(0, len(names) - 1):\n",
    "            textToReturn = textToReturn + names[name] + \", \"\n",
    "        textToReturn = textToReturn[:-2]\n",
    "        textToReturn = textToReturn + \" and \" + str(names[len(names) - 1]) + \" like this\"\n",
    "    else:\n",
    "        for name in range(0, 2):\n",
    "            textToReturn = textToReturn + names[name] + \", \"\n",
    "        textToReturn = textToReturn[:-2]\n",
    "        textToReturn = textToReturn + \" and \" + str(len(names)-2) + \" others like this\"\n",
    "    return textToReturn"
   ]
  },
  {
   "cell_type": "code",
   "execution_count": 44,
   "metadata": {},
   "outputs": [],
   "source": []
  },
  {
   "cell_type": "code",
   "execution_count": null,
   "metadata": {},
   "outputs": [],
   "source": []
  }
 ],
 "metadata": {
  "kernelspec": {
   "display_name": "Python 3.9.1 64-bit",
   "language": "python",
   "name": "python3"
  },
  "language_info": {
   "codemirror_mode": {
    "name": "ipython",
    "version": 3
   },
   "file_extension": ".py",
   "mimetype": "text/x-python",
   "name": "python",
   "nbconvert_exporter": "python",
   "pygments_lexer": "ipython3",
   "version": "3.10.6"
  },
  "orig_nbformat": 4,
  "vscode": {
   "interpreter": {
    "hash": "aee8b7b246df8f9039afb4144a1f6fd8d2ca17a180786b69acc140d282b71a49"
   }
  }
 },
 "nbformat": 4,
 "nbformat_minor": 2
}
